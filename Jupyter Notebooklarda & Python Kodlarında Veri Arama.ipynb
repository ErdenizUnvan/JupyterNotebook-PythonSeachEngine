{
 "cells": [
  {
   "cell_type": "code",
   "execution_count": null,
   "id": "bbd8a7a1",
   "metadata": {},
   "outputs": [],
   "source": [
    "#Bütün directory'lerdeki jupyter notebooklarda arama yapmak için\n",
    "import os\n",
    "import glob \n",
    "import io \n",
    "PWD=os.getcwd()\n",
    "directories=[d for d in os.listdir(PWD) if os.path.isdir(d)]\n",
    "query = \"links = 'https://stackoverflow.com/'\"\n",
    "for directory in directories:\n",
    "    pattern = f'{PWD}\\\\{directory}\\\\*.ipynb'\n",
    "    for filepath in glob.iglob(pattern, recursive=True):\n",
    "        with open(filepath,encoding='utf-8') as file:\n",
    "            s = file.read()\n",
    "            if (s.find(query) > -1):\n",
    "                print(filepath)"
   ]
  },
  {
   "cell_type": "code",
   "execution_count": null,
   "id": "3fa51e08",
   "metadata": {},
   "outputs": [],
   "source": [
    "#Ana folderdaki jupyter notebooklarda arama yapmak için\n",
    "import glob\n",
    "import os\n",
    "import io\n",
    "PWD=os.getcwd()\n",
    "pattern = f'{PWD}\\\\*.ipynb'\n",
    "query = \"links = 'https://stackoverflow.com/'\"\n",
    "for filepath in glob.iglob(pattern, recursive=True):\n",
    "    with open(filepath,encoding='utf-8') as file:\n",
    "        s = file.read()\n",
    "        if (s.find(query) > -1):\n",
    "            print(filepath)"
   ]
  },
  {
   "cell_type": "code",
   "execution_count": null,
   "id": "1b26017a",
   "metadata": {},
   "outputs": [],
   "source": [
    "#Bütün directory'lerdeki python kodlarında arama yapmak için\n",
    "import os\n",
    "import glob \n",
    "import io \n",
    "PWD=os.getcwd()\n",
    "directories=[d for d in os.listdir(PWD) if os.path.isdir(d)]\n",
    "query = \"havadurumu.json\"\n",
    "for directory in directories:\n",
    "    pattern = f'{PWD}\\\\{directory}\\\\*.py'\n",
    "    for filepath in glob.iglob(pattern, recursive=True):\n",
    "        with open(filepath,encoding='utf-8') as file:\n",
    "            s = file.read()\n",
    "            if (s.find(query) > -1):\n",
    "                print(filepath)"
   ]
  },
  {
   "cell_type": "code",
   "execution_count": null,
   "id": "af7ea2bd",
   "metadata": {},
   "outputs": [],
   "source": [
    "#Ana folderdaki python kodlarında arama yapmak için\n",
    "import glob\n",
    "import os\n",
    "import io\n",
    "PWD=os.getcwd()\n",
    "pattern = f'{PWD}\\\\*.ipynb'\n",
    "query = \"havadurumu.json\"\n",
    "for filepath in glob.iglob(pattern, recursive=True):\n",
    "    with open(filepath,encoding='utf-8') as file:\n",
    "        s = file.read()\n",
    "        if (s.find(query) > -1):\n",
    "            print(filepath)"
   ]
  },
  {
   "cell_type": "code",
   "execution_count": null,
   "id": "9604aa86",
   "metadata": {},
   "outputs": [],
   "source": []
  },
  {
   "cell_type": "code",
   "execution_count": null,
   "id": "af743575",
   "metadata": {},
   "outputs": [],
   "source": []
  },
  {
   "cell_type": "code",
   "execution_count": null,
   "id": "18ce5345",
   "metadata": {},
   "outputs": [],
   "source": []
  },
  {
   "cell_type": "code",
   "execution_count": null,
   "id": "aa3c85ec",
   "metadata": {},
   "outputs": [],
   "source": []
  },
  {
   "cell_type": "code",
   "execution_count": null,
   "id": "596ca1b7",
   "metadata": {},
   "outputs": [],
   "source": []
  },
  {
   "cell_type": "code",
   "execution_count": null,
   "id": "8e56775c",
   "metadata": {},
   "outputs": [],
   "source": []
  },
  {
   "cell_type": "code",
   "execution_count": null,
   "id": "4b452911",
   "metadata": {},
   "outputs": [],
   "source": []
  },
  {
   "cell_type": "code",
   "execution_count": null,
   "id": "15e207c4",
   "metadata": {},
   "outputs": [],
   "source": []
  },
  {
   "cell_type": "code",
   "execution_count": null,
   "id": "550d4697",
   "metadata": {},
   "outputs": [],
   "source": []
  }
 ],
 "metadata": {
  "kernelspec": {
   "display_name": "Python 3 (ipykernel)",
   "language": "python",
   "name": "python3"
  },
  "language_info": {
   "codemirror_mode": {
    "name": "ipython",
    "version": 3
   },
   "file_extension": ".py",
   "mimetype": "text/x-python",
   "name": "python",
   "nbconvert_exporter": "python",
   "pygments_lexer": "ipython3",
   "version": "3.8.2"
  }
 },
 "nbformat": 4,
 "nbformat_minor": 5
}
